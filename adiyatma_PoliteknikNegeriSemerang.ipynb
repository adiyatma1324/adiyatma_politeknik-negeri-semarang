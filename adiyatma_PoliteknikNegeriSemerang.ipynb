{
  "nbformat": 4,
  "nbformat_minor": 0,
  "metadata": {
    "colab": {
      "provenance": [],
      "authorship_tag": "ABX9TyPmxGfkrG3PPu9O0XW1o7Cf",
      "include_colab_link": true
    },
    "kernelspec": {
      "name": "python3",
      "display_name": "Python 3"
    },
    "language_info": {
      "name": "python"
    }
  },
  "cells": [
    {
      "cell_type": "markdown",
      "metadata": {
        "id": "view-in-github",
        "colab_type": "text"
      },
      "source": [
        "<a href=\"https://colab.research.google.com/github/adiyatma1324/adiyatma_politeknik-negeri-semarang/blob/main/adiyatma_PoliteknikNegeriSemerang.ipynb\" target=\"_parent\"><img src=\"https://colab.research.google.com/assets/colab-badge.svg\" alt=\"Open In Colab\"/></a>"
      ]
    },
    {
      "cell_type": "markdown",
      "source": [
        "TUGAS 1"
      ],
      "metadata": {
        "id": "1KDiN2Jj0Og-"
      }
    },
    {
      "cell_type": "code",
      "execution_count": 16,
      "metadata": {
        "colab": {
          "base_uri": "https://localhost:8080/"
        },
        "id": "tY-0aCix4fio",
        "outputId": "524f5892-9499-460c-fad6-8026d174e07b"
      },
      "outputs": [
        {
          "output_type": "stream",
          "name": "stdout",
          "text": [
            "Nama produk 1: Kopi Butterscotch\n",
            "\n",
            "Harga produk 1: 18000\n",
            "\n",
            "Nama produk 2: Roti Cokelat\n",
            "\n",
            "Harga produk 2: 10000\n",
            "\n",
            "Status ketersediaan roti: True\n"
          ]
        }
      ],
      "source": [
        "nama_produk_1 = \"Kopi Butterscotch\"\n",
        "harga_produk_1 = 18000\n",
        "nama_produk_2 = \"Roti Cokelat\"\n",
        "harga_produk_2 = 10000\n",
        "status_ketersediaan_roti = True\n",
        "\n",
        "print(f\"Nama produk 1: {nama_produk_1}\\n\")\n",
        "print(f\"Harga produk 1: {harga_produk_1}\\n\")\n",
        "print(f\"Nama produk 2: {nama_produk_2}\\n\")\n",
        "print(f\"Harga produk 2: {harga_produk_2}\\n\")\n",
        "print(f\"Status ketersediaan roti: {status_ketersediaan_roti}\")"
      ]
    },
    {
      "cell_type": "markdown",
      "source": [
        "TUGAS 2"
      ],
      "metadata": {
        "id": "g5-_dpRm0Sdy"
      }
    },
    {
      "cell_type": "code",
      "source": [
        "jumlah_kopi_str = input(\"Masukkan jumlah pesanan kopi: \")\n",
        "print()\n",
        "jumlah_roti_str = input(\"Masukkan jumlah pesanan roti: \")\n",
        "print()\n",
        "\n",
        "print(f\"Tipe data awal jumlah kopi: {type(jumlah_kopi_str)}\\n\")\n",
        "print(f\"Tipe data awal jumlah roti: {type(jumlah_roti_str)}\\n\")\n",
        "\n",
        "jumlah_kopi_int = int(jumlah_kopi_str)\n",
        "jumlah_roti_int = int(jumlah_roti_str)\n",
        "\n",
        "print(f\"Tipe data setelah konversi (kopi): {type(jumlah_kopi_int)}\\n\")\n",
        "print(f\"Tipe data setelah konversi (roti): {type(jumlah_roti_int)}\")"
      ],
      "metadata": {
        "colab": {
          "base_uri": "https://localhost:8080/"
        },
        "id": "v_Y7JAcX0UiA",
        "outputId": "81a3bc71-a932-4eb5-c924-bfa70d872a81"
      },
      "execution_count": null,
      "outputs": [
        {
          "output_type": "stream",
          "name": "stdout",
          "text": [
            "Masukkan jumlah pesanan kopi: 2\n",
            "\n",
            "Masukkan jumlah pesanan roti: 2\n",
            "\n",
            "Tipe data awal jumlah kopi: <class 'str'>\n",
            "\n",
            "Tipe data awal jumlah roti: <class 'str'>\n",
            "\n",
            "Tipe data setelah konversi (kopi): <class 'int'>\n",
            "\n",
            "Tipe data setelah konversi (roti): <class 'int'>\n"
          ]
        }
      ]
    },
    {
      "cell_type": "markdown",
      "source": [
        "TUGAS 3"
      ],
      "metadata": {
        "id": "XohVLmcH1eNa"
      }
    },
    {
      "cell_type": "code",
      "source": [
        "harga_kopi = 15000\n",
        "harga_roti = 10000\n",
        "\n",
        "jumlah_kopi_int  = int(input(\"Masukkan jumlah kopi: \"))\n",
        "jumlah_roti_int  = int(input(\"Masukkan jumlah roti: \"))\n",
        "\n",
        "total_harga_kopi = harga_kopi * jumlah_kopi_int\n",
        "total_harga_roti = harga_roti * jumlah_roti_int\n",
        "\n",
        "total_belanja = total_harga_kopi + total_harga_roti\n",
        "\n",
        "uang_bayar = int(input(\"Masukkan jumlah uang bayar: \"))\n",
        "kembalian  = uang_bayar - total_belanja\n",
        "\n",
        "print(f\"Total harga kopi           : Rp{total_harga_kopi:,}\\n\")\n",
        "print(f\"Total harga roti           : Rp{total_harga_roti:,}\\n\")\n",
        "print(f\"Total belanja keseluruhan  : Rp{total_belanja:,}\\n\")\n",
        "print(f\"Uang yang dibayarkan       : Rp{uang_bayar:,}\\n\")\n",
        "print(f\"Kembalian                  : Rp{kembalian:,}\")"
      ],
      "metadata": {
        "id": "TCq5X8AU1gaL",
        "colab": {
          "base_uri": "https://localhost:8080/"
        },
        "outputId": "876b07f9-3a44-42fa-eb08-280d5eb07bb0"
      },
      "execution_count": 15,
      "outputs": [
        {
          "output_type": "stream",
          "name": "stdout",
          "text": [
            "Masukkan jumlah kopi: 2\n",
            "Masukkan jumlah roti: 3\n",
            "Masukkan jumlah uang bayar: 60000\n",
            "Total harga kopi           : Rp30,000\n",
            "\n",
            "Total harga roti           : Rp30,000\n",
            "\n",
            "Total belanja keseluruhan  : Rp60,000\n",
            "\n",
            "Uang yang dibayarkan       : Rp60,000\n",
            "\n",
            "Kembalian                  : Rp0\n"
          ]
        }
      ]
    },
    {
      "cell_type": "markdown",
      "source": [
        "TUGAS 4"
      ],
      "metadata": {
        "id": "uUdpxh332mxe"
      }
    },
    {
      "cell_type": "code",
      "source": [
        "try:\n",
        "    nama_produk_1\n",
        "except NameError:\n",
        "    nama_produk_1 = \"Matcha\"\n",
        "\n",
        "nama_pelanggan = input(\"Masukkan nama pelanggan: \")\n",
        "\n",
        "harga_minuman = 10_000\n",
        "jumlah_minuman_int = int(input(\"Masukkan jumlah pesanan minuman: \"))\n",
        "total_harga_minuman = harga_minuman * jumlah_minuman_int\n",
        "\n",
        "pesan_terima_kasih = \"Terima kasih, \" + nama_pelanggan + \" sudah berbelanja di Coffee Shop Luka!!\"\n",
        "\n",
        "garis = \"*\" * 30\n",
        "print(garis)\n",
        "print()\n",
        "print(pesan_terima_kasih)\n",
        "print()\n",
        "print(garis)\n",
        "print()\n",
        "\n",
        "print(f\"Total harga {nama_produk_1} adalah Rp{total_harga_minuman}\")"
      ],
      "metadata": {
        "id": "aHdIs5su27Rt",
        "colab": {
          "base_uri": "https://localhost:8080/"
        },
        "outputId": "551c8b4c-278c-411c-d7ac-d57cb3f1a0e5"
      },
      "execution_count": 12,
      "outputs": [
        {
          "output_type": "stream",
          "name": "stdout",
          "text": [
            "Masukkan nama pelanggan: Adi\n",
            "Masukkan jumlah pesanan minuman: 3\n",
            "******************************\n",
            "\n",
            "Terima kasih, Adi sudah berbelanja di Coffee Shop Luka!!\n",
            "\n",
            "******************************\n",
            "\n",
            "Total harga Matcha adalah Rp30000\n"
          ]
        }
      ]
    }
  ]
}