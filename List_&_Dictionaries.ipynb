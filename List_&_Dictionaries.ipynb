{
  "nbformat": 4,
  "nbformat_minor": 0,
  "metadata": {
    "colab": {
      "provenance": [],
      "authorship_tag": "ABX9TyPmW+uzm4C/DvwyRADBsPtg",
      "include_colab_link": true
    },
    "kernelspec": {
      "name": "python3",
      "display_name": "Python 3"
    },
    "language_info": {
      "name": "python"
    }
  },
  "cells": [
    {
      "cell_type": "markdown",
      "metadata": {
        "id": "view-in-github",
        "colab_type": "text"
      },
      "source": [
        "<a href=\"https://colab.research.google.com/github/adiyatma1324/adiyatma_politeknik-negeri-semarang/blob/main/List_%26_Dictionaries.ipynb\" target=\"_parent\"><img src=\"https://colab.research.google.com/assets/colab-badge.svg\" alt=\"Open In Colab\"/></a>"
      ]
    },
    {
      "cell_type": "code",
      "execution_count": 6,
      "metadata": {
        "colab": {
          "base_uri": "https://localhost:8080/"
        },
        "id": "oriJswPSofeh",
        "outputId": "22d84c1b-8263-4147-f0e0-6997b7cdf0fa"
      },
      "outputs": [
        {
          "output_type": "stream",
          "name": "stdout",
          "text": [
            "List siswa awal: ['Adiyatma', 'Cahayani', 'Ganang', 'Nazida']\n",
            "Dictionary nilai siswa awal: {'Adiyatma': 90, 'Cahayani': 95, 'Ganang': 75, 'Nazida': 80}\n",
            "List siswa setelah tambah & hapus: ['Adiyatma', 'Ganang', 'Nazida', 'Arda']\n",
            "Siswa pertama: Adiyatma\n",
            "Siswa terakhir: Arda\n",
            "3 siswa terakhir: ['Ganang', 'Nazida', 'Arda']\n",
            "Index dan nama siswa:\n",
            "0 : Adiyatma\n",
            "1 : Ganang\n",
            "2 : Nazida\n",
            "3 : Arda\n",
            "Dictionary setelah update & hapus: {'Adiyatma': 90, 'Cahayani': 95, 'Ganang': 80, 'Nazida': 80}\n",
            "Dictionary setelah ganti nama: {'Cahayani': 95, 'Ganang': 80, 'Nazida': 80, 'Bagas': 90}\n"
          ]
        }
      ],
      "source": [
        "siswa = [\"Adiyatma\", \"Cahayani\", \"Ganang\", \"Nazida\"]\n",
        "print(\"List siswa awal:\", siswa)\n",
        "\n",
        "nilai_siswa = {\n",
        "    \"Adiyatma\": 90,\n",
        "    \"Cahayani\": 95,\n",
        "    \"Ganang\": 75,\n",
        "    \"Nazida\": 80,\n",
        "}\n",
        "print(\"Dictionary nilai siswa awal:\", nilai_siswa)\n",
        "\n",
        "\n",
        "siswa.append(\"Arda\")\n",
        "siswa.remove(\"Cahayani\")\n",
        "print(\"List siswa setelah tambah & hapus:\", siswa)\n",
        "\n",
        "\n",
        "print(\"Siswa pertama:\", siswa[0])\n",
        "print(\"Siswa terakhir:\", siswa[-1])\n",
        "print(\"3 siswa terakhir:\", siswa[-3:])\n",
        "\n",
        "print(\"Index dan nama siswa:\")\n",
        "for idx, nama in enumerate(siswa):\n",
        "    print(idx, \":\", nama)\n",
        "\n",
        "nilai_siswa[\"Ganang\"] = 80\n",
        "nilai_siswa.pop(\"Cahyani\", None)\n",
        "print(\"Dictionary setelah update & hapus:\", nilai_siswa)\n",
        "\n",
        "\n",
        "nilai_siswa[\"Bagas\"] = nilai_siswa.pop(\"Adiyatma\")\n",
        "print(\"Dictionary setelah ganti nama:\", nilai_siswa)\n"
      ]
    }
  ]
}